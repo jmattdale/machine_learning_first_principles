{
 "cells": [
  {
   "cell_type": "markdown",
   "id": "7602a6ec-8312-4c28-89b0-0d71ef0f0ea9",
   "metadata": {},
   "source": [
    "### Bayes Rule\n",
    "\n",
    "**Probabilities**\n",
    "\n",
    "Probabilities could be interpreted as the frequency of an event occuring given a total number of events.\n",
    "In this case the probability of the event becomes:\n",
    "<br/><br/>\n",
    "$P(A) = P(event) = \\frac{N_{event}}{N}$\n",
    "<br/>\n",
    "\n",
    "Probabilites can also be described using set theory intersection oven events diveded by the complement plus the union of the all events\n",
    "<br/><br/>\n",
    "$P(A \\cap B) = P(A,B)$\n",
    "\n",
    "<br/><br/>\n",
    "**Conditional Probabilites and Bayes Rule**\n",
    "<br/>\n",
    "The probability of an outcome B has occured, given that A happened.<br/>\n",
    "Another way to describe this is: looking at elements of set A, the chance that one also belongs to set B (intersection of A and B)\n",
    "\n",
    "Given two conditional probabilities:\n",
    "<br/>\n",
    "$$P(A|B) = \\frac{P(A \\cap B)}{P(B)}$$\n",
    "<br/>\n",
    "and\n",
    "<br/>\n",
    "$$P(B|A) = \\frac{P(B \\cap A)}{P(A)}$$\n",
    "<br/>\n",
    "the latter can be algrabraically solved for the intersection term and become:\n",
    "$$P(B \\cap A) = P(B|A) \\cdot {P(A)}$$\n",
    "<br/>\n",
    "This in turn can be subsituted into the numerator of the first equation to become Baye's rule\n",
    "$$P(A|B) = \\frac{P(B|A) \\cdot {P(A)}}{P(B)}$$"
   ]
  },
  {
   "cell_type": "markdown",
   "id": "581f69e7-2f90-4958-8d28-0db7b316f7b4",
   "metadata": {},
   "source": [
    "### Naive Bayes Classification\n",
    "\n",
    "Naive Bayes classification based upon Bayes' theorem and some strong (naive part) assumptions regarding the independence of features.  The assumption is that the samples and their features is IID (independent and identically distributed).\n",
    "\n",
    "Math formulation:\n",
    " - Given set of features $x_1, x_2, ..., x_n$ and a set of classes C, the model estimates $P(C_k | x_1, x_2, ..., x_n)$\n",
    " - Applying Bayes rule and then simplyifying we get $$C_{predicted} = \\text{arg}\\,\\max P(C_{k}) \\prod_{i=1}^{n} P(x_{i}|C_{k})$$\n",
    "Model Parameters:\n",
    " - $P(C_{K}) = \\frac{\\text{number of samples in class } C_{k}}{\\text{total samples}}$"
   ]
  },
  {
   "cell_type": "code",
   "execution_count": 1,
   "id": "a7ad8f87-aa7c-49d3-b2ea-886616c0015d",
   "metadata": {
    "tags": []
   },
   "outputs": [],
   "source": [
    "import numpy as np"
   ]
  },
  {
   "cell_type": "code",
   "execution_count": null,
   "id": "f974f543-6631-4033-b1e8-51ecb6fddbab",
   "metadata": {},
   "outputs": [],
   "source": []
  }
 ],
 "metadata": {
  "kernelspec": {
   "display_name": "Python 3 (ipykernel)",
   "language": "python",
   "name": "python3"
  },
  "language_info": {
   "codemirror_mode": {
    "name": "ipython",
    "version": 3
   },
   "file_extension": ".py",
   "mimetype": "text/x-python",
   "name": "python",
   "nbconvert_exporter": "python",
   "pygments_lexer": "ipython3",
   "version": "3.8.10"
  }
 },
 "nbformat": 4,
 "nbformat_minor": 5
}
