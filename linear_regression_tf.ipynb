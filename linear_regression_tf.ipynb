{
 "cells": [
  {
   "cell_type": "markdown",
   "id": "4547d497-697f-4786-bb09-8ad353f19421",
   "metadata": {},
   "source": [
    "## Tensorflow SGD"
   ]
  },
  {
   "cell_type": "code",
   "execution_count": 66,
   "id": "b4711d91-3028-4ea4-98ef-5445fe2bbc8c",
   "metadata": {
    "tags": []
   },
   "outputs": [],
   "source": [
    "import tensorflow as tf\n",
    "from tensorflow.keras import layers\n",
    "import numpy as np\n",
    "import matplotlib.pyplot as plt"
   ]
  },
  {
   "cell_type": "code",
   "execution_count": 75,
   "id": "9f6a1bf1-1497-447b-bc31-57141471a850",
   "metadata": {
    "tags": []
   },
   "outputs": [],
   "source": [
    "x = np.array([[5], [15], [25], [35], [45], [55]])\n",
    "y = np.array([[5], [20], [14], [32], [22], [38]])"
   ]
  },
  {
   "cell_type": "code",
   "execution_count": 76,
   "id": "9c6248ff-b6a2-4603-a6e2-b0736382f707",
   "metadata": {
    "tags": []
   },
   "outputs": [],
   "source": [
    "dataset = tf.data.Dataset.from_tensor_slices((x, y)).shuffle(4).batch(2)"
   ]
  },
  {
   "cell_type": "code",
   "execution_count": 77,
   "id": "280e3341-121b-4532-b526-669399eb4d95",
   "metadata": {
    "tags": []
   },
   "outputs": [],
   "source": [
    "model = tf.keras.Sequential([\n",
    "    tf.keras.Input(shape=(1,)),\n",
    "    layers.Dense(1) # np.dot(X.transpose(), thetas) x = [samples, features + 1], thetas = [features + 1].  b0 + b1X1, b2X2, x = [feature1, feature2, 1 (bias)]\n",
    "])"
   ]
  },
  {
   "cell_type": "code",
   "execution_count": 78,
   "id": "cb34c6c8-22d2-4979-9097-5197ea580ec8",
   "metadata": {
    "tags": []
   },
   "outputs": [
    {
     "name": "stdout",
     "output_type": "stream",
     "text": [
      "Epoch 1/100\n",
      "3/3 [==============================] - 0s 2ms/step - loss: 4277.6230 - mean_squared_error: 4277.6230\n",
      "Epoch 2/100\n",
      "3/3 [==============================] - 0s 2ms/step - loss: 3713.1143 - mean_squared_error: 3713.1143\n",
      "Epoch 3/100\n",
      "3/3 [==============================] - 0s 2ms/step - loss: 3206.3748 - mean_squared_error: 3206.3748\n",
      "Epoch 4/100\n",
      "3/3 [==============================] - 0s 2ms/step - loss: 2772.1309 - mean_squared_error: 2772.1309\n",
      "Epoch 5/100\n",
      "3/3 [==============================] - 0s 1ms/step - loss: 2391.8848 - mean_squared_error: 2391.8848\n",
      "Epoch 6/100\n",
      "3/3 [==============================] - 0s 2ms/step - loss: 2075.9939 - mean_squared_error: 2075.9939\n",
      "Epoch 7/100\n",
      "3/3 [==============================] - 0s 1ms/step - loss: 1814.3129 - mean_squared_error: 1814.3129\n",
      "Epoch 8/100\n",
      "3/3 [==============================] - 0s 1ms/step - loss: 1579.4877 - mean_squared_error: 1579.4877\n",
      "Epoch 9/100\n",
      "3/3 [==============================] - 0s 2ms/step - loss: 1354.6227 - mean_squared_error: 1354.6227\n",
      "Epoch 10/100\n",
      "3/3 [==============================] - 0s 1ms/step - loss: 1181.3212 - mean_squared_error: 1181.3212\n",
      "Epoch 11/100\n",
      "3/3 [==============================] - 0s 1ms/step - loss: 1027.3048 - mean_squared_error: 1027.3048\n",
      "Epoch 12/100\n",
      "3/3 [==============================] - 0s 2ms/step - loss: 897.0994 - mean_squared_error: 897.0994\n",
      "Epoch 13/100\n",
      "3/3 [==============================] - 0s 2ms/step - loss: 781.0338 - mean_squared_error: 781.0338\n",
      "Epoch 14/100\n",
      "3/3 [==============================] - 0s 2ms/step - loss: 676.2837 - mean_squared_error: 676.2837\n",
      "Epoch 15/100\n",
      "3/3 [==============================] - 0s 2ms/step - loss: 595.4358 - mean_squared_error: 595.4358\n",
      "Epoch 16/100\n",
      "3/3 [==============================] - 0s 2ms/step - loss: 517.8010 - mean_squared_error: 517.8010\n",
      "Epoch 17/100\n",
      "3/3 [==============================] - 0s 2ms/step - loss: 453.4683 - mean_squared_error: 453.4683\n",
      "Epoch 18/100\n",
      "3/3 [==============================] - 0s 1ms/step - loss: 398.8970 - mean_squared_error: 398.8970\n",
      "Epoch 19/100\n",
      "3/3 [==============================] - 0s 2ms/step - loss: 348.7669 - mean_squared_error: 348.7669\n",
      "Epoch 20/100\n",
      "3/3 [==============================] - 0s 1ms/step - loss: 308.9136 - mean_squared_error: 308.9136\n",
      "Epoch 21/100\n",
      "3/3 [==============================] - 0s 2ms/step - loss: 271.5648 - mean_squared_error: 271.5648\n",
      "Epoch 22/100\n",
      "3/3 [==============================] - 0s 2ms/step - loss: 240.4871 - mean_squared_error: 240.4871\n",
      "Epoch 23/100\n",
      "3/3 [==============================] - 0s 2ms/step - loss: 214.4466 - mean_squared_error: 214.4466\n",
      "Epoch 24/100\n",
      "3/3 [==============================] - 0s 2ms/step - loss: 190.7602 - mean_squared_error: 190.7602\n",
      "Epoch 25/100\n",
      "3/3 [==============================] - 0s 2ms/step - loss: 170.4531 - mean_squared_error: 170.4531\n",
      "Epoch 26/100\n",
      "3/3 [==============================] - 0s 2ms/step - loss: 153.1412 - mean_squared_error: 153.1412\n",
      "Epoch 27/100\n",
      "3/3 [==============================] - 0s 2ms/step - loss: 138.5496 - mean_squared_error: 138.5496\n",
      "Epoch 28/100\n",
      "3/3 [==============================] - 0s 2ms/step - loss: 125.3562 - mean_squared_error: 125.3562\n",
      "Epoch 29/100\n",
      "3/3 [==============================] - 0s 2ms/step - loss: 113.8776 - mean_squared_error: 113.8776\n",
      "Epoch 30/100\n",
      "3/3 [==============================] - 0s 2ms/step - loss: 104.3564 - mean_squared_error: 104.3564\n",
      "Epoch 31/100\n",
      "3/3 [==============================] - 0s 2ms/step - loss: 95.8384 - mean_squared_error: 95.8384\n",
      "Epoch 32/100\n",
      "3/3 [==============================] - 0s 2ms/step - loss: 88.5766 - mean_squared_error: 88.5766\n",
      "Epoch 33/100\n",
      "3/3 [==============================] - 0s 2ms/step - loss: 82.9076 - mean_squared_error: 82.9076\n",
      "Epoch 34/100\n",
      "3/3 [==============================] - 0s 2ms/step - loss: 77.4406 - mean_squared_error: 77.4406\n",
      "Epoch 35/100\n",
      "3/3 [==============================] - 0s 2ms/step - loss: 71.7586 - mean_squared_error: 71.7586\n",
      "Epoch 36/100\n",
      "3/3 [==============================] - 0s 2ms/step - loss: 68.0763 - mean_squared_error: 68.0763\n",
      "Epoch 37/100\n",
      "3/3 [==============================] - 0s 2ms/step - loss: 64.8628 - mean_squared_error: 64.8628\n",
      "Epoch 38/100\n",
      "3/3 [==============================] - 0s 3ms/step - loss: 61.1041 - mean_squared_error: 61.1041\n",
      "Epoch 39/100\n",
      "3/3 [==============================] - 0s 2ms/step - loss: 58.5890 - mean_squared_error: 58.5890\n",
      "Epoch 40/100\n",
      "3/3 [==============================] - 0s 2ms/step - loss: 56.7980 - mean_squared_error: 56.7980\n",
      "Epoch 41/100\n",
      "3/3 [==============================] - 0s 2ms/step - loss: 54.3119 - mean_squared_error: 54.3119\n",
      "Epoch 42/100\n",
      "3/3 [==============================] - 0s 2ms/step - loss: 53.0676 - mean_squared_error: 53.0676\n",
      "Epoch 43/100\n",
      "3/3 [==============================] - 0s 2ms/step - loss: 51.3446 - mean_squared_error: 51.3446\n",
      "Epoch 44/100\n",
      "3/3 [==============================] - 0s 2ms/step - loss: 49.8144 - mean_squared_error: 49.8144\n",
      "Epoch 45/100\n",
      "3/3 [==============================] - 0s 2ms/step - loss: 48.5032 - mean_squared_error: 48.5032\n",
      "Epoch 46/100\n",
      "3/3 [==============================] - 0s 2ms/step - loss: 47.9364 - mean_squared_error: 47.9364\n",
      "Epoch 47/100\n",
      "3/3 [==============================] - 0s 2ms/step - loss: 47.1110 - mean_squared_error: 47.1110\n",
      "Epoch 48/100\n",
      "3/3 [==============================] - 0s 2ms/step - loss: 46.0662 - mean_squared_error: 46.0662\n",
      "Epoch 49/100\n",
      "3/3 [==============================] - 0s 2ms/step - loss: 45.4580 - mean_squared_error: 45.4580\n",
      "Epoch 50/100\n",
      "3/3 [==============================] - 0s 2ms/step - loss: 45.1599 - mean_squared_error: 45.1599\n",
      "Epoch 51/100\n",
      "3/3 [==============================] - 0s 1ms/step - loss: 44.8840 - mean_squared_error: 44.8840\n",
      "Epoch 52/100\n",
      "3/3 [==============================] - 0s 2ms/step - loss: 44.2799 - mean_squared_error: 44.2799\n",
      "Epoch 53/100\n",
      "3/3 [==============================] - 0s 2ms/step - loss: 43.5543 - mean_squared_error: 43.5543\n",
      "Epoch 54/100\n",
      "3/3 [==============================] - 0s 2ms/step - loss: 43.8605 - mean_squared_error: 43.8605\n",
      "Epoch 55/100\n",
      "3/3 [==============================] - 0s 2ms/step - loss: 43.3688 - mean_squared_error: 43.3688\n",
      "Epoch 56/100\n",
      "3/3 [==============================] - 0s 2ms/step - loss: 43.2854 - mean_squared_error: 43.2854\n",
      "Epoch 57/100\n",
      "3/3 [==============================] - 0s 3ms/step - loss: 43.1944 - mean_squared_error: 43.1944\n",
      "Epoch 58/100\n",
      "3/3 [==============================] - 0s 2ms/step - loss: 42.4285 - mean_squared_error: 42.4285\n",
      "Epoch 59/100\n",
      "3/3 [==============================] - 0s 2ms/step - loss: 42.4851 - mean_squared_error: 42.4851\n",
      "Epoch 60/100\n",
      "3/3 [==============================] - 0s 2ms/step - loss: 42.1815 - mean_squared_error: 42.1815\n",
      "Epoch 61/100\n",
      "3/3 [==============================] - 0s 2ms/step - loss: 42.0642 - mean_squared_error: 42.0642\n",
      "Epoch 62/100\n",
      "3/3 [==============================] - 0s 2ms/step - loss: 42.2390 - mean_squared_error: 42.2390\n",
      "Epoch 63/100\n",
      "3/3 [==============================] - 0s 2ms/step - loss: 42.4294 - mean_squared_error: 42.4294\n",
      "Epoch 64/100\n",
      "3/3 [==============================] - 0s 2ms/step - loss: 42.1167 - mean_squared_error: 42.1167\n",
      "Epoch 65/100\n",
      "3/3 [==============================] - 0s 2ms/step - loss: 42.0246 - mean_squared_error: 42.0246\n",
      "Epoch 66/100\n",
      "3/3 [==============================] - 0s 2ms/step - loss: 41.9801 - mean_squared_error: 41.9801\n",
      "Epoch 67/100\n",
      "3/3 [==============================] - 0s 2ms/step - loss: 41.9454 - mean_squared_error: 41.9454\n",
      "Epoch 68/100\n",
      "3/3 [==============================] - 0s 2ms/step - loss: 42.1308 - mean_squared_error: 42.1308\n",
      "Epoch 69/100\n",
      "3/3 [==============================] - 0s 2ms/step - loss: 41.8430 - mean_squared_error: 41.8430\n",
      "Epoch 70/100\n",
      "3/3 [==============================] - 0s 2ms/step - loss: 42.1189 - mean_squared_error: 42.1189\n",
      "Epoch 71/100\n",
      "3/3 [==============================] - 0s 2ms/step - loss: 42.1366 - mean_squared_error: 42.1366\n",
      "Epoch 72/100\n",
      "3/3 [==============================] - 0s 2ms/step - loss: 41.8283 - mean_squared_error: 41.8283\n",
      "Epoch 73/100\n",
      "3/3 [==============================] - 0s 2ms/step - loss: 42.1610 - mean_squared_error: 42.1610\n",
      "Epoch 74/100\n",
      "3/3 [==============================] - 0s 2ms/step - loss: 42.0255 - mean_squared_error: 42.0255\n",
      "Epoch 75/100\n",
      "3/3 [==============================] - 0s 2ms/step - loss: 42.1238 - mean_squared_error: 42.1238\n",
      "Epoch 76/100\n",
      "3/3 [==============================] - 0s 2ms/step - loss: 41.8909 - mean_squared_error: 41.8909\n",
      "Epoch 77/100\n",
      "3/3 [==============================] - 0s 2ms/step - loss: 41.9600 - mean_squared_error: 41.9600\n",
      "Epoch 78/100\n",
      "3/3 [==============================] - 0s 2ms/step - loss: 41.4898 - mean_squared_error: 41.4898\n",
      "Epoch 79/100\n",
      "3/3 [==============================] - 0s 2ms/step - loss: 41.9361 - mean_squared_error: 41.9361\n",
      "Epoch 80/100\n",
      "3/3 [==============================] - 0s 2ms/step - loss: 41.7294 - mean_squared_error: 41.7294\n",
      "Epoch 81/100\n",
      "3/3 [==============================] - 0s 2ms/step - loss: 41.9899 - mean_squared_error: 41.9899\n",
      "Epoch 82/100\n",
      "3/3 [==============================] - 0s 2ms/step - loss: 41.6972 - mean_squared_error: 41.6972\n",
      "Epoch 83/100\n",
      "3/3 [==============================] - 0s 2ms/step - loss: 41.7183 - mean_squared_error: 41.7183\n",
      "Epoch 84/100\n",
      "3/3 [==============================] - 0s 2ms/step - loss: 41.6861 - mean_squared_error: 41.6861\n",
      "Epoch 85/100\n",
      "3/3 [==============================] - 0s 2ms/step - loss: 41.7520 - mean_squared_error: 41.7520\n",
      "Epoch 86/100\n",
      "3/3 [==============================] - 0s 2ms/step - loss: 41.5629 - mean_squared_error: 41.5629\n",
      "Epoch 87/100\n",
      "3/3 [==============================] - 0s 2ms/step - loss: 41.9374 - mean_squared_error: 41.9374\n",
      "Epoch 88/100\n",
      "3/3 [==============================] - 0s 2ms/step - loss: 41.7102 - mean_squared_error: 41.7102\n",
      "Epoch 89/100\n",
      "3/3 [==============================] - 0s 2ms/step - loss: 42.0543 - mean_squared_error: 42.0543\n",
      "Epoch 90/100\n",
      "3/3 [==============================] - 0s 2ms/step - loss: 41.7477 - mean_squared_error: 41.7477\n",
      "Epoch 91/100\n",
      "3/3 [==============================] - 0s 2ms/step - loss: 41.9583 - mean_squared_error: 41.9583\n",
      "Epoch 92/100\n",
      "3/3 [==============================] - 0s 2ms/step - loss: 41.6221 - mean_squared_error: 41.6221\n",
      "Epoch 93/100\n",
      "3/3 [==============================] - 0s 2ms/step - loss: 41.9131 - mean_squared_error: 41.9131\n",
      "Epoch 94/100\n",
      "3/3 [==============================] - 0s 2ms/step - loss: 41.4078 - mean_squared_error: 41.4078\n",
      "Epoch 95/100\n",
      "3/3 [==============================] - 0s 2ms/step - loss: 41.9349 - mean_squared_error: 41.9349\n",
      "Epoch 96/100\n",
      "3/3 [==============================] - 0s 2ms/step - loss: 41.9410 - mean_squared_error: 41.9410\n",
      "Epoch 97/100\n",
      "3/3 [==============================] - 0s 2ms/step - loss: 41.7974 - mean_squared_error: 41.7974\n",
      "Epoch 98/100\n",
      "3/3 [==============================] - 0s 2ms/step - loss: 41.5501 - mean_squared_error: 41.5501\n",
      "Epoch 99/100\n",
      "3/3 [==============================] - 0s 2ms/step - loss: 41.4309 - mean_squared_error: 41.4309\n",
      "Epoch 100/100\n",
      "3/3 [==============================] - 0s 2ms/step - loss: 42.0544 - mean_squared_error: 42.0544\n"
     ]
    },
    {
     "data": {
      "text/plain": [
       "<keras.callbacks.History at 0x7f8b84551880>"
      ]
     },
     "execution_count": 78,
     "metadata": {},
     "output_type": "execute_result"
    }
   ],
   "source": [
    "model.compile(optimizer=tf.keras.optimizers.SGD(learning_rate=0.00001), loss=tf.keras.losses.MeanSquaredError(), metrics=tf.keras.metrics.MeanSquaredError())\n",
    "model.fit(dataset, epochs=100, verbose=1)\n",
    "# Look into RMSPROP and Adam"
   ]
  },
  {
   "cell_type": "code",
   "execution_count": 79,
   "id": "436a4e09-9cce-4843-bb47-f699bfc214fb",
   "metadata": {
    "tags": []
   },
   "outputs": [
    {
     "name": "stdout",
     "output_type": "stream",
     "text": [
      "1/1 [==============================] - 0s 39ms/step\n",
      "1/1 [==============================] - 0s 16ms/step\n",
      "1/1 [==============================] - 0s 16ms/step\n",
      "1/1 [==============================] - 0s 16ms/step\n",
      "1/1 [==============================] - 0s 19ms/step\n",
      "1/1 [==============================] - 0s 16ms/step\n",
      "1/1 [==============================] - 0s 16ms/step\n",
      "1/1 [==============================] - 0s 18ms/step\n",
      "1/1 [==============================] - 0s 18ms/step\n",
      "1/1 [==============================] - 0s 17ms/step\n",
      "1/1 [==============================] - 0s 18ms/step\n",
      "1/1 [==============================] - 0s 19ms/step\n",
      "1/1 [==============================] - 0s 18ms/step\n",
      "1/1 [==============================] - 0s 19ms/step\n",
      "1/1 [==============================] - 0s 18ms/step\n",
      "1/1 [==============================] - 0s 18ms/step\n",
      "1/1 [==============================] - 0s 18ms/step\n",
      "1/1 [==============================] - 0s 20ms/step\n",
      "1/1 [==============================] - 0s 20ms/step\n",
      "1/1 [==============================] - 0s 17ms/step\n",
      "1/1 [==============================] - 0s 18ms/step\n",
      "1/1 [==============================] - 0s 18ms/step\n",
      "1/1 [==============================] - 0s 19ms/step\n",
      "1/1 [==============================] - 0s 18ms/step\n",
      "1/1 [==============================] - 0s 18ms/step\n",
      "1/1 [==============================] - 0s 19ms/step\n",
      "1/1 [==============================] - 0s 18ms/step\n",
      "1/1 [==============================] - 0s 18ms/step\n",
      "1/1 [==============================] - 0s 18ms/step\n",
      "1/1 [==============================] - 0s 19ms/step\n",
      "1/1 [==============================] - 0s 18ms/step\n",
      "1/1 [==============================] - 0s 18ms/step\n",
      "1/1 [==============================] - 0s 17ms/step\n",
      "1/1 [==============================] - 0s 17ms/step\n",
      "1/1 [==============================] - 0s 18ms/step\n",
      "1/1 [==============================] - 0s 18ms/step\n",
      "1/1 [==============================] - 0s 19ms/step\n",
      "1/1 [==============================] - 0s 18ms/step\n",
      "1/1 [==============================] - 0s 22ms/step\n",
      "1/1 [==============================] - 0s 19ms/step\n",
      "1/1 [==============================] - 0s 17ms/step\n",
      "1/1 [==============================] - 0s 17ms/step\n",
      "1/1 [==============================] - 0s 18ms/step\n",
      "1/1 [==============================] - 0s 17ms/step\n",
      "1/1 [==============================] - 0s 19ms/step\n",
      "1/1 [==============================] - 0s 18ms/step\n",
      "1/1 [==============================] - 0s 18ms/step\n",
      "1/1 [==============================] - 0s 20ms/step\n",
      "1/1 [==============================] - 0s 20ms/step\n",
      "1/1 [==============================] - 0s 18ms/step\n",
      "1/1 [==============================] - 0s 19ms/step\n",
      "1/1 [==============================] - 0s 20ms/step\n",
      "1/1 [==============================] - 0s 18ms/step\n",
      "1/1 [==============================] - 0s 19ms/step\n",
      "1/1 [==============================] - 0s 19ms/step\n",
      "1/1 [==============================] - 0s 18ms/step\n",
      "1/1 [==============================] - 0s 18ms/step\n",
      "1/1 [==============================] - 0s 18ms/step\n",
      "1/1 [==============================] - 0s 19ms/step\n",
      "1/1 [==============================] - 0s 20ms/step\n",
      "1/1 [==============================] - 0s 18ms/step\n",
      "1/1 [==============================] - 0s 17ms/step\n",
      "1/1 [==============================] - 0s 18ms/step\n",
      "1/1 [==============================] - 0s 17ms/step\n",
      "1/1 [==============================] - 0s 18ms/step\n",
      "1/1 [==============================] - 0s 18ms/step\n",
      "1/1 [==============================] - 0s 17ms/step\n",
      "1/1 [==============================] - 0s 18ms/step\n",
      "1/1 [==============================] - 0s 17ms/step\n",
      "1/1 [==============================] - 0s 18ms/step\n",
      "1/1 [==============================] - 0s 18ms/step\n",
      "1/1 [==============================] - 0s 20ms/step\n",
      "1/1 [==============================] - 0s 21ms/step\n",
      "1/1 [==============================] - 0s 19ms/step\n",
      "1/1 [==============================] - 0s 18ms/step\n",
      "1/1 [==============================] - 0s 18ms/step\n",
      "1/1 [==============================] - 0s 19ms/step\n",
      "1/1 [==============================] - 0s 18ms/step\n",
      "1/1 [==============================] - 0s 17ms/step\n",
      "1/1 [==============================] - 0s 17ms/step\n"
     ]
    }
   ],
   "source": [
    "x = np.arange(-10, 70);\n",
    "y_hat = [model.predict(np.array([i]))[0] for i in x];"
   ]
  },
  {
   "cell_type": "code",
   "execution_count": 80,
   "id": "47ea6455-7ce8-4620-8654-2513feaf0175",
   "metadata": {
    "tags": []
   },
   "outputs": [
    {
     "data": {
      "text/plain": [
       "[<matplotlib.lines.Line2D at 0x7f8b84276ca0>]"
      ]
     },
     "execution_count": 80,
     "metadata": {},
     "output_type": "execute_result"
    },
    {
     "data": {
      "image/png": "[encoded data removed]",
      "text/plain": [
       "<Figure size 640x480 with 1 Axes>"
      ]
     },
     "metadata": {},
     "output_type": "display_data"
    }
   ],
   "source": [
    "plt.plot(x, y_hat)"
   ]
  },
  {
   "cell_type": "code",
   "execution_count": null,
   "id": "8cd8024d-ab54-49d8-810d-f168a929fbb3",
   "metadata": {},
   "outputs": [],
   "source": []
  }
 ],
 "metadata": {
  "kernelspec": {
   "display_name": "Python 3 (ipykernel)",
   "language": "python",
   "name": "python3"
  },
  "language_info": {
   "codemirror_mode": {
    "name": "ipython",
    "version": 3
   },
   "file_extension": ".py",
   "mimetype": "text/x-python",
   "name": "python",
   "nbconvert_exporter": "python",
   "pygments_lexer": "ipython3",
   "version": "3.8.10"
  }
 },
 "nbformat": 4,
 "nbformat_minor": 5
}
